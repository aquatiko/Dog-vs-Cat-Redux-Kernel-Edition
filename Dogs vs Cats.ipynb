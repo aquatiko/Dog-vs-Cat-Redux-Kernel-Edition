{
  "cells": [
    {
      "metadata": {
        "_uuid": "8f2839f25d086af736a60e9eeb907d3b93b6e0e5",
        "_cell_guid": "b1076dfc-b9ad-4769-8c92-a6c4dae69d19",
        "trusted": true
      },
      "cell_type": "code",
      "source": "import numpy as np # linear algebra\nimport pandas as pd # data processing, CSV file I/O (e.g. pd.read_csv)\n\n# Input data files are available in the \"../input/\" directory.\n# For example, running this (by clicking run or pressing Shift+Enter) will list the files in the input directory\n\nimport os\nprint(os.listdir(\"../input\"))\n\n# Any results you write to the current directory are saved as output.",
      "execution_count": 1,
      "outputs": [
        {
          "output_type": "stream",
          "text": "['train', 'test']\n",
          "name": "stdout"
        }
      ]
    },
    {
      "metadata": {
        "_cell_guid": "79c7e3d0-c299-4dcb-8224-4455121ee9b0",
        "collapsed": true,
        "_uuid": "d629ff2d2480ee46fbb7e2d37f6b5fab8052498a",
        "trusted": true
      },
      "cell_type": "code",
      "source": "PATH = \"../input/\"\nTMP_PATH = \"/tmp/tmp\"\nMODEL_PATH = \"/tmp/model/\"\nsz=224",
      "execution_count": 2,
      "outputs": []
    },
    {
      "metadata": {
        "trusted": true,
        "_uuid": "6e376aa50aa332233706403db495308ffa958bca",
        "collapsed": true
      },
      "cell_type": "code",
      "source": "fnames = np.array([f'train/{f}' for f in sorted(os.listdir(f'{PATH}train'))])\nlabels = np.array([(0 if 'cat' in fname else 1) for fname in fnames])",
      "execution_count": 3,
      "outputs": []
    },
    {
      "metadata": {
        "trusted": true,
        "_uuid": "747edfcb62475bae19eb6b07a21fd91f2d01ce6c"
      },
      "cell_type": "code",
      "source": "print(fnames[-2],labels[-2])",
      "execution_count": 4,
      "outputs": [
        {
          "output_type": "stream",
          "text": "train/dog.9998.jpg 1\n",
          "name": "stdout"
        }
      ]
    },
    {
      "metadata": {
        "trusted": true,
        "collapsed": true,
        "_uuid": "3bf0bfec0a753ffea6299bc2f2ea18e2cce6b891"
      },
      "cell_type": "code",
      "source": "from fastai.imports import *\nfrom fastai.transforms import *\nfrom fastai.conv_learner import *\nfrom fastai.model import *\nfrom fastai.dataset import *\nfrom fastai.sgdr import *\nfrom fastai.plots import *",
      "execution_count": 5,
      "outputs": []
    },
    {
      "metadata": {
        "trusted": true,
        "_uuid": "eef266ac656ba699631aa5094cb70a6c914a75ff",
        "collapsed": true
      },
      "cell_type": "code",
      "source": "arch=resnet50",
      "execution_count": 6,
      "outputs": []
    },
    {
      "metadata": {
        "_uuid": "558145e26e702aad4dc1e958088289f5276cc0d3"
      },
      "cell_type": "markdown",
      "source": "**Model 1**"
    },
    {
      "metadata": {
        "_uuid": "10139e2332f7bc5ff31fd756626fc52d21a8cab6"
      },
      "cell_type": "markdown",
      "source": "This model will use architecture and the trained weights of the specified \"arch\" . As resnet is trained on Imagnet dataset which includes cats and dogs as one of its classes, we can use it directly(Transfer Learning) with just a need of few additional finaly layers to make the architecture specific to our needs. In this model we are adding 3 new layers after \"arch\" and training only them and the rest of convulational layers are frozen."
    },
    {
      "metadata": {
        "trusted": true,
        "_uuid": "4e5aae092fd06f7fe453cbcb6878f3c4c1aacebd"
      },
      "cell_type": "code",
      "source": "#data loader function\ndata = ImageClassifierData.from_names_and_array(\n    path=PATH, \n    fnames=fnames, \n    y=labels, \n    classes=['dogs', 'cats'], \n    test_name='test', \n    tfms= tfms_from_model(arch, sz)   \n)\n\n#creating a learner which is same as creating a model in keras\nlearn = ConvLearner.pretrained(arch, data, precompute=True, tmp_name=TMP_PATH, models_name=MODEL_PATH)",
      "execution_count": 7,
      "outputs": [
        {
          "output_type": "stream",
          "text": "Downloading: \"https://download.pytorch.org/models/resnet50-19c8e357.pth\" to /tmp/.torch/models/resnet50-19c8e357.pth\n100%|██████████| 102502400/102502400 [00:01<00:00, 55845584.41it/s]\n",
          "name": "stderr"
        },
        {
          "output_type": "stream",
          "text": "100%|██████████| 313/313 [03:42<00:00,  1.40it/s]\n100%|██████████| 79/79 [00:54<00:00,  1.44it/s]\n100%|██████████| 196/196 [02:16<00:00,  1.43it/s]\n",
          "name": "stdout"
        }
      ]
    },
    {
      "metadata": {
        "_uuid": "2ff7e6b9717bb7e572233382078d721362e0a63d"
      },
      "cell_type": "markdown",
      "source": "By setting precompute=True , we are precomputing the activations of the forward passes on the training data while initializing the learner. This implements forward caching and makes training faster."
    },
    {
      "metadata": {
        "trusted": true,
        "_uuid": "e40286ac49a020ba1656ee797536cd0fc2632352"
      },
      "cell_type": "code",
      "source": "%%time\nlearn.fit(0.01, 2)",
      "execution_count": 8,
      "outputs": [
        {
          "output_type": "display_data",
          "data": {
            "text/plain": "A Jupyter Widget",
            "application/vnd.jupyter.widget-view+json": {
              "version_major": 2,
              "version_minor": 0,
              "model_id": "e5a6323ff34141299267ff6801d764d6"
            }
          },
          "metadata": {}
        },
        {
          "output_type": "stream",
          "text": "epoch      trn_loss   val_loss   accuracy                     \n    0      0.042571   0.029981   0.990506  \n    1      0.027968   0.027089   0.991297                     \n\nCPU times: user 11.8 s, sys: 6.6 s, total: 18.4 s\nWall time: 12.7 s\n",
          "name": "stdout"
        },
        {
          "output_type": "execute_result",
          "execution_count": 8,
          "data": {
            "text/plain": "[0.02708925, 0.9912974683544303]"
          },
          "metadata": {}
        }
      ]
    },
    {
      "metadata": {
        "trusted": true,
        "_uuid": "08a8b7cc804910e7be8aa80f4d808e14f4794801"
      },
      "cell_type": "code",
      "source": "lrf= learn.lr_find()        #learning rate finder",
      "execution_count": 9,
      "outputs": [
        {
          "output_type": "display_data",
          "data": {
            "text/plain": "A Jupyter Widget",
            "application/vnd.jupyter.widget-view+json": {
              "version_major": 2,
              "version_minor": 0,
              "model_id": "7730176115064e3b893e41ffebbefb46"
            }
          },
          "metadata": {}
        },
        {
          "output_type": "stream",
          "text": " 73%|███████▎  | 228/313 [00:04<00:01, 56.43it/s, loss=0.0444]\n                                                              \r",
          "name": "stdout"
        }
      ]
    },
    {
      "metadata": {
        "trusted": true,
        "_uuid": "c2c881aeb9bf6220b3661178a052a35f10fafcda"
      },
      "cell_type": "code",
      "source": "learn.sched.plot_lr()",
      "execution_count": 10,
      "outputs": [
        {
          "output_type": "display_data",
          "data": {
            "text/plain": "<matplotlib.figure.Figure at 0x7f33773eb2b0>",
            "image/png": "[encoded data removed]"
          },
          "metadata": {}
        }
      ]
    },
    {
      "metadata": {
        "trusted": true,
        "_uuid": "237cbc53fc77b834f1e1b7c5e7184e60968a3500"
      },
      "cell_type": "code",
      "source": "learn.sched.plot()",
      "execution_count": 11,
      "outputs": [
        {
          "output_type": "display_data",
          "data": {
            "text/plain": "<matplotlib.figure.Figure at 0x7f33721f3828>",
            "image/png": "[encoded data removed]"
          },
          "metadata": {}
        }
      ]
    },
    {
      "metadata": {
        "trusted": true,
        "collapsed": true,
        "_uuid": "17ac21f41051241d96644bbf793b84cb5a39ea9e"
      },
      "cell_type": "code",
      "source": "learn.save('model1')",
      "execution_count": 12,
      "outputs": []
    },
    {
      "metadata": {
        "_uuid": "9cd7be95ff2de8d7421e0a8253c02e546a55a5e8"
      },
      "cell_type": "markdown",
      "source": "This model got 0.06218 binary loss error on test set on Kaggle with resnet 34 \nand 0.05806 with resnet 50 \nand 0.05876 with resnet101  \nand 0.06055 with TTA and resnet50"
    },
    {
      "metadata": {
        "_uuid": "eb0c2ad51a7b2c574f6fc1093214c73cc8c7f510"
      },
      "cell_type": "markdown",
      "source": "**Model 2**"
    },
    {
      "metadata": {
        "trusted": true,
        "_uuid": "fdd09f9f4620e3ca73b803e8a58f7c688dcacb2f",
        "collapsed": true
      },
      "cell_type": "code",
      "source": "data = ImageClassifierData.from_names_and_array(\n    path=PATH, \n    fnames=fnames, \n    y=labels, \n    classes=['dogs', 'cats'], \n    test_name='test', \n    tfms= tfms_from_model(resnet34, sz, aug_tfms=transforms_side_on, max_zoom=1.1)   #data augmentation with side on transformation, this also resizes the image according to \"sz\"\n)\nlearn = ConvLearner.pretrained(arch, data, precompute=True, tmp_name=TMP_PATH, models_name=MODEL_PATH)",
      "execution_count": 13,
      "outputs": []
    },
    {
      "metadata": {
        "trusted": true,
        "_uuid": "d16b971337252e36e66217003ac25c1d54102ab4"
      },
      "cell_type": "code",
      "source": "learn.fit(0.01,4)     # .fit(learning_rate,cycles)",
      "execution_count": 14,
      "outputs": [
        {
          "output_type": "display_data",
          "data": {
            "text/plain": "A Jupyter Widget",
            "application/vnd.jupyter.widget-view+json": {
              "version_major": 2,
              "version_minor": 0,
              "model_id": "395804f9485446e7a2e42484c18a0016"
            }
          },
          "metadata": {}
        },
        {
          "output_type": "stream",
          "text": "epoch      trn_loss   val_loss   accuracy                     \n    0      0.040089   0.029252   0.990506  \n    1      0.028787   0.028103   0.990506                     \n    2      0.025363   0.026342   0.9911                       \n    3      0.023344   0.027357   0.991495                     \n\n",
          "name": "stdout"
        },
        {
          "output_type": "execute_result",
          "execution_count": 14,
          "data": {
            "text/plain": "[0.027357252, 0.991495253164557]"
          },
          "metadata": {}
        }
      ]
    },
    {
      "metadata": {
        "_uuid": "3e9863915c5bbebdb5a07d78e84d86282b24ced6"
      },
      "cell_type": "markdown",
      "source": "By setting precompute=True, the first step learner does is calcualte activations of training data which happens even before generating augmented data step. So we need to set precompute=False and recompute the activations as we do forward pass along with both training and augmented data once again."
    },
    {
      "metadata": {
        "trusted": true,
        "_uuid": "a95b55ba187146039f6c4e3afefc6de50f2306d1"
      },
      "cell_type": "code",
      "source": "learn.precompute=False\nlearn.fit(1e-2, 3, cycle_len=2)",
      "execution_count": 15,
      "outputs": [
        {
          "output_type": "display_data",
          "data": {
            "text/plain": "A Jupyter Widget",
            "application/vnd.jupyter.widget-view+json": {
              "version_major": 2,
              "version_minor": 0,
              "model_id": "0f8c900b38de42928d53998e289f939a"
            }
          },
          "metadata": {}
        },
        {
          "output_type": "stream",
          "text": "epoch      trn_loss   val_loss   accuracy                     \n    0      0.026944   0.024934   0.992089  \n    1      0.020677   0.024885   0.992286                     \n    2      0.026103   0.025234   0.991495                     \n    3      0.024679   0.025387   0.991495                     \n    4      0.031665   0.02371    0.992286                     \n    5      0.017906   0.024163   0.992286                     \n\n",
          "name": "stdout"
        },
        {
          "output_type": "execute_result",
          "execution_count": 15,
          "data": {
            "text/plain": "[0.024163038, 0.9922863924050633]"
          },
          "metadata": {}
        }
      ]
    },
    {
      "metadata": {
        "_uuid": "3b3f55d1f7be32ef57990bff8b40b47654c43634"
      },
      "cell_type": "markdown",
      "source": "By setting cycle_len, we can enables stochastic gradient descent with restarts (SGDR). The basic idea is as you get closer and closer to the spot with the minimal loss, you may want to start decrease the learning rate (taking smaller steps) in order to get to exactly the right spot(learning rate annealing). Also, we are resettting the learning rate after  cycles specified by cycle_len. Restaring helps the model to get out of spiky area in descent and genralize better. "
    },
    {
      "metadata": {
        "trusted": true,
        "_uuid": "ec17fcc85b9ca15cfd336ef2c7443b5b84d73e04"
      },
      "cell_type": "code",
      "source": "learn.sched.plot_lr()",
      "execution_count": 16,
      "outputs": [
        {
          "output_type": "display_data",
          "data": {
            "text/plain": "<matplotlib.figure.Figure at 0x7f3377582940>",
            "image/png": "[encoded data removed]"
          },
          "metadata": {}
        }
      ]
    },
    {
      "metadata": {
        "trusted": true,
        "collapsed": true,
        "_uuid": "7b3022f0c8d9e68bc0267e35762cb03a1a9e34b0"
      },
      "cell_type": "code",
      "source": "learn.save('model2')",
      "execution_count": 17,
      "outputs": []
    },
    {
      "metadata": {
        "trusted": true,
        "_uuid": "fd9259e1cbfdcf1421eb0d4937449182fe281e06",
        "collapsed": true
      },
      "cell_type": "code",
      "source": "#learn.load('model2')",
      "execution_count": 18,
      "outputs": []
    },
    {
      "metadata": {
        "_uuid": "e1c6351c6447869b5a202e3aabe3e934c267abcf"
      },
      "cell_type": "markdown",
      "source": "This model got  0.06917 log loss error on test set on Kaggle using resnet50  \nand 0.05605 with TTA resent50"
    },
    {
      "metadata": {
        "_uuid": "b316febc782d7e28525c5116ec34d2c1af2e4b72"
      },
      "cell_type": "markdown",
      "source": "**Model 3**"
    },
    {
      "metadata": {
        "_uuid": "495bbdfc4a020ddf7c19d606f8b836ee4f99552f"
      },
      "cell_type": "markdown",
      "source": "Here we unfreeze all the layers of \"arch\" and recalibrate their weights."
    },
    {
      "metadata": {
        "trusted": true,
        "collapsed": true,
        "_uuid": "6496eb4ad6e3f3e31c69fcc543634d5c7596b8d4"
      },
      "cell_type": "code",
      "source": "learn.unfreeze()",
      "execution_count": 19,
      "outputs": []
    },
    {
      "metadata": {
        "trusted": true,
        "collapsed": true,
        "_uuid": "c776f413478eef2f6391e7a006d1e072de9c4c06"
      },
      "cell_type": "code",
      "source": "lr=np.array([1e-4,1e-3,1e-2])   #differential learning rate",
      "execution_count": 20,
      "outputs": []
    },
    {
      "metadata": {
        "_uuid": "3afc5e1c5220e51ecfbf7f7ac1ddd2e3f086079a"
      },
      "cell_type": "markdown",
      "source": "As the starting layers can identify basic feature like corners and gradients, there is less need to change their weights. Thus a low lr for them. The middle layers learn to recogonize specific feature like eyes, tail, ears, so morderate lr for them. The last layers learn to recogonize hunmans, objects, animals etc. , so the last layers lr needs to be high to properly tune them."
    },
    {
      "metadata": {
        "trusted": true,
        "_uuid": "7d84a43992c4021a799dd0bafe72ef4c7fd6a872"
      },
      "cell_type": "code",
      "source": "learn.fit(lr, 3, cycle_len=1, cycle_mult=2)",
      "execution_count": 21,
      "outputs": [
        {
          "output_type": "display_data",
          "data": {
            "text/plain": "A Jupyter Widget",
            "application/vnd.jupyter.widget-view+json": {
              "version_major": 2,
              "version_minor": 0,
              "model_id": "b1173229dda2488b8e30e8ad2baba286"
            }
          },
          "metadata": {}
        },
        {
          "output_type": "stream",
          "text": "epoch      trn_loss   val_loss   accuracy                     \n    0      0.040272   0.026866   0.991297  \n    1      0.032145   0.027405   0.992089                     \n    2      0.018009   0.025891   0.991693                     \n    3      0.022024   0.026703   0.9911                       \n    4      0.01185    0.026303   0.989517                     \n    5      0.011403   0.025554   0.991693                     \n    6      0.014385   0.025076   0.992484                      \n\n",
          "name": "stdout"
        },
        {
          "output_type": "execute_result",
          "execution_count": 21,
          "data": {
            "text/plain": "[0.025075983, 0.9924841772151899]"
          },
          "metadata": {}
        }
      ]
    },
    {
      "metadata": {
        "_uuid": "a6ada18e435abc23d08e008cc54962c1f4ed9fdd"
      },
      "cell_type": "markdown",
      "source": "0.07477 log losss with resnet50 and 0.07083 with TTA and resnet 50"
    },
    {
      "metadata": {
        "trusted": true,
        "_uuid": "1d45797b213a0680fa9a07523345701403509b41"
      },
      "cell_type": "code",
      "source": "learn.sched.plot_lr()",
      "execution_count": 22,
      "outputs": [
        {
          "output_type": "display_data",
          "data": {
            "text/plain": "<matplotlib.figure.Figure at 0x7f33773c8b00>",
            "image/png": "[encoded data removed]"
          },
          "metadata": {}
        }
      ]
    },
    {
      "metadata": {
        "trusted": true,
        "collapsed": true,
        "_uuid": "41e163f6a50968dfa24870743ae682424e699a60"
      },
      "cell_type": "code",
      "source": "learn.save('model3')",
      "execution_count": 23,
      "outputs": []
    },
    {
      "metadata": {
        "trusted": true,
        "collapsed": true,
        "_uuid": "f2bcd0d5f11de0ebe949b991452b9f7e2c651495"
      },
      "cell_type": "code",
      "source": "??learn.TTA",
      "execution_count": 24,
      "outputs": []
    },
    {
      "metadata": {
        "_uuid": "8f2bb52345c8f415702d4b58731bd5fa9c11d7ba"
      },
      "cell_type": "markdown",
      "source": "**For using Test Time Augmentation(TTA)**"
    },
    {
      "metadata": {
        "trusted": true,
        "_uuid": "2175546f790706b685405764dd4a4d2b8c9027de"
      },
      "cell_type": "code",
      "source": "log_predictions,y = learn.TTA(is_test=True)\nprob_predictions = np.mean(np.exp(log_predictions),0)\nprobs = prob_predictions[:,1]",
      "execution_count": 25,
      "outputs": [
        {
          "output_type": "stream",
          "text": "                                              \r",
          "name": "stdout"
        }
      ]
    },
    {
      "metadata": {
        "trusted": true,
        "collapsed": true,
        "_uuid": "57120ba13b8582566eeaefb7688fb122bd22c4d4"
      },
      "cell_type": "code",
      "source": "valid_preds= np.argmax(prob_predictions, axis=1)",
      "execution_count": 26,
      "outputs": []
    },
    {
      "metadata": {
        "_uuid": "3c764629686f87a1c6ea90348b4e518640bce59c"
      },
      "cell_type": "markdown",
      "source": "**Without using TTA (run either of them)**"
    },
    {
      "metadata": {
        "trusted": true,
        "_uuid": "8803f6cbda302a075d1720e2e9a91c22b33134c7",
        "collapsed": true
      },
      "cell_type": "code",
      "source": "log_preds = learn.predict(is_test=True)\npreds = np.argmax(log_preds, axis=1) \nprobs = np.exp(log_preds[:,1])",
      "execution_count": 27,
      "outputs": []
    },
    {
      "metadata": {
        "_uuid": "fba81c0fa67154065137facfc2e921e4985d2b1a"
      },
      "cell_type": "markdown",
      "source": "**For creating submission file**"
    },
    {
      "metadata": {
        "trusted": true,
        "collapsed": true,
        "_uuid": "0d6067e794f5658ee4b677941cd44c65dec570e8"
      },
      "cell_type": "code",
      "source": "ids= fnames = np.array([f'{f}' for f in os.listdir(f'{PATH}test')])",
      "execution_count": 28,
      "outputs": []
    },
    {
      "metadata": {
        "trusted": true,
        "_uuid": "ba2b108ccba88d5d5c1e9b297de89f51e310162c"
      },
      "cell_type": "code",
      "source": "ids= [i.replace(\".jpg\",\"\") for i in ids]\nids[0]",
      "execution_count": 29,
      "outputs": [
        {
          "output_type": "execute_result",
          "execution_count": 29,
          "data": {
            "text/plain": "'3090'"
          },
          "metadata": {}
        }
      ]
    },
    {
      "metadata": {
        "trusted": true,
        "_uuid": "552e955c1066ef1e669bec6f4817a2df5ff284f6"
      },
      "cell_type": "code",
      "source": "ans= pd.DataFrame({\"id\":ids,\"label\":probs})\nans= ans.sort_values('id')\nans.head()",
      "execution_count": 30,
      "outputs": [
        {
          "output_type": "execute_result",
          "execution_count": 30,
          "data": {
            "text/plain": "          id     label\n2322       1  0.999981\n4892      10  0.000165\n12001    100  0.000001\n9899    1000  0.999994\n1853   10000  0.999945",
            "text/html": "<div>\n<style scoped>\n    .dataframe tbody tr th:only-of-type {\n        vertical-align: middle;\n    }\n\n    .dataframe tbody tr th {\n        vertical-align: top;\n    }\n\n    .dataframe thead th {\n        text-align: right;\n    }\n</style>\n<table border=\"1\" class=\"dataframe\">\n  <thead>\n    <tr style=\"text-align: right;\">\n      <th></th>\n      <th>id</th>\n      <th>label</th>\n    </tr>\n  </thead>\n  <tbody>\n    <tr>\n      <th>2322</th>\n      <td>1</td>\n      <td>0.999981</td>\n    </tr>\n    <tr>\n      <th>4892</th>\n      <td>10</td>\n      <td>0.000165</td>\n    </tr>\n    <tr>\n      <th>12001</th>\n      <td>100</td>\n      <td>0.000001</td>\n    </tr>\n    <tr>\n      <th>9899</th>\n      <td>1000</td>\n      <td>0.999994</td>\n    </tr>\n    <tr>\n      <th>1853</th>\n      <td>10000</td>\n      <td>0.999945</td>\n    </tr>\n  </tbody>\n</table>\n</div>"
          },
          "metadata": {}
        }
      ]
    },
    {
      "metadata": {
        "trusted": true,
        "_uuid": "b8cf4ea9f25e5b7eee13e6eb080a62951f1f14bc"
      },
      "cell_type": "code",
      "source": "ans.describe()",
      "execution_count": 31,
      "outputs": [
        {
          "output_type": "execute_result",
          "execution_count": 31,
          "data": {
            "text/plain": "              label\ncount  1.250000e+04\nmean   5.004857e-01\nstd    4.974357e-01\nmin    6.177263e-11\n25%    7.436891e-06\n50%    5.991184e-01\n75%    9.999909e-01\nmax    1.000000e+00",
            "text/html": "<div>\n<style scoped>\n    .dataframe tbody tr th:only-of-type {\n        vertical-align: middle;\n    }\n\n    .dataframe tbody tr th {\n        vertical-align: top;\n    }\n\n    .dataframe thead th {\n        text-align: right;\n    }\n</style>\n<table border=\"1\" class=\"dataframe\">\n  <thead>\n    <tr style=\"text-align: right;\">\n      <th></th>\n      <th>label</th>\n    </tr>\n  </thead>\n  <tbody>\n    <tr>\n      <th>count</th>\n      <td>1.250000e+04</td>\n    </tr>\n    <tr>\n      <th>mean</th>\n      <td>5.004857e-01</td>\n    </tr>\n    <tr>\n      <th>std</th>\n      <td>4.974357e-01</td>\n    </tr>\n    <tr>\n      <th>min</th>\n      <td>6.177263e-11</td>\n    </tr>\n    <tr>\n      <th>25%</th>\n      <td>7.436891e-06</td>\n    </tr>\n    <tr>\n      <th>50%</th>\n      <td>5.991184e-01</td>\n    </tr>\n    <tr>\n      <th>75%</th>\n      <td>9.999909e-01</td>\n    </tr>\n    <tr>\n      <th>max</th>\n      <td>1.000000e+00</td>\n    </tr>\n  </tbody>\n</table>\n</div>"
          },
          "metadata": {}
        }
      ]
    },
    {
      "metadata": {
        "trusted": true,
        "collapsed": true,
        "_uuid": "f78aff411ee29c8f6e84d4fbf853bbc3b9eab981"
      },
      "cell_type": "code",
      "source": "# model 2 mean 5.006981e-01   std  4.964828e-01    min  1.536870e-09   [0.025943222, 0.9912974683544303]",
      "execution_count": 32,
      "outputs": []
    },
    {
      "metadata": {
        "trusted": true,
        "collapsed": true,
        "_uuid": "cd94172cec17a4c0837e4e99df1721c951de2c61"
      },
      "cell_type": "code",
      "source": "#model 1 mean 5.014179e-01   std 4.955358e-01     min 2.701442e-08     [0.026336912, 0.991495253164557]",
      "execution_count": 33,
      "outputs": []
    },
    {
      "metadata": {
        "trusted": true,
        "collapsed": true,
        "_uuid": "c14b05429baf7b0f5e7f3af26ad1372ea81c5845"
      },
      "cell_type": "code",
      "source": "ans.to_csv('submission.csv', index=False)",
      "execution_count": 34,
      "outputs": []
    },
    {
      "metadata": {
        "trusted": true,
        "collapsed": true,
        "_uuid": "9f732e2185675654930cc5deae077bd29f2cfede"
      },
      "cell_type": "code",
      "source": "",
      "execution_count": null,
      "outputs": []
    }
  ],
  "metadata": {
    "kernelspec": {
      "display_name": "Python 3",
      "language": "python",
      "name": "python3"
    },
    "language_info": {
      "name": "python",
      "version": "3.6.4",
      "mimetype": "text/x-python",
      "codemirror_mode": {
        "name": "ipython",
        "version": 3
      },
      "pygments_lexer": "ipython3",
      "nbconvert_exporter": "python",
      "file_extension": ".py"
    }
  },
  "nbformat": 4,
  "nbformat_minor": 1
}